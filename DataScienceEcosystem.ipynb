{
 "cells": [
  {
   "cell_type": "markdown",
   "id": "8cfca048-a3a9-44f2-8ed6-5798f91601d7",
   "metadata": {},
   "source": [
    "# Data Science Tools and Ecosystem"
   ]
  },
  {
   "cell_type": "markdown",
   "id": "7afaa27f-daa2-4db6-a8de-14030844c9d2",
   "metadata": {},
   "source": [
    "In this notebook, Data Science Tools and Ecosystem are summarized."
   ]
  },
  {
   "cell_type": "markdown",
   "id": "a8b9e761-a8b0-492b-a0cc-f5c96413c266",
   "metadata": {},
   "source": [
    "**Objectives:**\n",
    "- List popular languages for Data Science\n",
    "- Commonly used libraries for Data Science\n",
    "- Data Science Tools "
   ]
  },
  {
   "cell_type": "markdown",
   "id": "10e13dd1-6fc4-431e-a660-2c225343e86e",
   "metadata": {},
   "source": [
    "Some of the popular languages that Data Scientists use are:\n",
    "1. Python\n",
    "2. R\n",
    "3. Julia\n",
    "4. Java\n",
    "5. Scala\n"
   ]
  },
  {
   "cell_type": "markdown",
   "id": "79c2abac-83dc-4615-b1f1-ab7ca54918ff",
   "metadata": {},
   "source": [
    "Some of the commonly used libraries used by Data Scientists include:\n",
    "1. NumPy\n",
    "2. Pandas\n",
    "3. Keras\n",
    "4. Matplotlib\n",
    "5. PyTorch"
   ]
  },
  {
   "cell_type": "markdown",
   "id": "377b0b95-2068-46fd-9d9c-4f32cc07e13b",
   "metadata": {},
   "source": [
    "|Data Science Tools |\n",
    "|----------- |\n",
    "|MySQL |\n",
    "|MongoDB |\n",
    "|Ceph |\n"
   ]
  },
  {
   "cell_type": "markdown",
   "id": "e58a5d17-743c-450e-9dac-6b77d6d79633",
   "metadata": {},
   "source": [
    "### Below are a few examples of evaluating arithmetic expressions in Python\n"
   ]
  },
  {
   "cell_type": "code",
   "execution_count": 2,
   "id": "bb9765e7-e512-4a15-b254-b8b8c5588d17",
   "metadata": {},
   "outputs": [
    {
     "data": {
      "text/plain": [
       "17"
      ]
     },
     "execution_count": 2,
     "metadata": {},
     "output_type": "execute_result"
    }
   ],
   "source": [
    "## This a simple arithmetic expression to multiply then add integers\n",
    "(3*4)+5"
   ]
  },
  {
   "cell_type": "code",
   "execution_count": 3,
   "id": "09334e64-901f-4de2-b90f-e212786bf0bc",
   "metadata": {},
   "outputs": [
    {
     "data": {
      "text/plain": [
       "3.3333333333333335"
      ]
     },
     "execution_count": 3,
     "metadata": {},
     "output_type": "execute_result"
    }
   ],
   "source": [
    "## This will convert 200 minutes to hours by diving by 60\n",
    "200/60"
   ]
  },
  {
   "cell_type": "markdown",
   "id": "08a23092-55dc-4a2e-b0fa-632a8ee3d3e4",
   "metadata": {},
   "source": [
    "## Author\n",
    "Suganya G"
   ]
  },
  {
   "cell_type": "code",
   "execution_count": null,
   "id": "97918249-e595-4391-8938-e85fe9909d42",
   "metadata": {},
   "outputs": [],
   "source": []
  }
 ],
 "metadata": {
  "kernelspec": {
   "display_name": "Python 3 (ipykernel)",
   "language": "python",
   "name": "python3"
  },
  "language_info": {
   "codemirror_mode": {
    "name": "ipython",
    "version": 3
   },
   "file_extension": ".py",
   "mimetype": "text/x-python",
   "name": "python",
   "nbconvert_exporter": "python",
   "pygments_lexer": "ipython3",
   "version": "3.12.8"
  }
 },
 "nbformat": 4,
 "nbformat_minor": 5
}
